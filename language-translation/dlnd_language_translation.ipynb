{
 "cells": [
  {
   "cell_type": "markdown",
   "metadata": {
    "collapsed": true,
    "deletable": true,
    "editable": true
   },
   "source": [
    "# Language Translation\n",
    "In this project, you’re going to take a peek into the realm of neural network machine translation.  You’ll be training a sequence to sequence model on a dataset of English and French sentences that can translate new sentences from English to French.\n",
    "## Get the Data\n",
    "Since translating the whole language of English to French will take lots of time to train, we have provided you with a small portion of the English corpus."
   ]
  },
  {
   "cell_type": "code",
   "execution_count": 1,
   "metadata": {
    "collapsed": true,
    "deletable": true,
    "editable": true
   },
   "outputs": [],
   "source": [
    "\"\"\"\n",
    "DON'T MODIFY ANYTHING IN THIS CELL\n",
    "\"\"\"\n",
    "import helper\n",
    "import problem_unittests as tests\n",
    "\n",
    "source_path = 'data/small_vocab_en'\n",
    "target_path = 'data/small_vocab_fr'\n",
    "source_text = helper.load_data(source_path)\n",
    "target_text = helper.load_data(target_path)"
   ]
  },
  {
   "cell_type": "markdown",
   "metadata": {
    "deletable": true,
    "editable": true
   },
   "source": [
    "## Explore the Data\n",
    "Play around with view_sentence_range to view different parts of the data."
   ]
  },
  {
   "cell_type": "code",
   "execution_count": 2,
   "metadata": {
    "collapsed": false,
    "deletable": true,
    "editable": true
   },
   "outputs": [
    {
     "name": "stdout",
     "output_type": "stream",
     "text": [
      "Dataset Stats\n",
      "Roughly the number of unique words: 227\n",
      "Number of sentences: 137861\n",
      "Average number of words in a sentence: 13.225277634719028\n",
      "\n",
      "English sentences 30 to 50:\n",
      "he dislikes apples , peaches , and grapes .\n",
      "california is usually freezing during december , and it is busy in april .\n",
      "your most feared animal is that shark .\n",
      "paris is usually wet during august , and it is never dry in november .\n",
      "paris is usually beautiful during september , and it is usually snowy in november .\n",
      "the united states is never wet during january , but it is usually hot in october .\n",
      "we like oranges , mangoes , and grapes .\n",
      "they like pears , apples , and mangoes .\n",
      "she dislikes that little red truck .\n",
      "the grapefruit is my most loved fruit , but the banana is her most loved .\n",
      "france is snowy during may , and it is never busy in autumn .\n",
      "china is usually mild during winter , but it is never busy in february .\n",
      "china is never nice during july , but it is usually snowy in spring .\n",
      "california is busy during november , but it is rainy in autumn .\n",
      "china is warm during spring , and it is sometimes cold in february .\n",
      "california is usually beautiful during winter , but it is never busy in february .\n",
      "france is wonderful during november , but it is sometimes hot in september .\n",
      "india is usually pleasant during november , but it is never relaxing in july .\n",
      "the united states is never freezing during autumn , but it is never busy in june .\n",
      "paris is sometimes warm during june , but it is usually hot in july .\n",
      "\n",
      "French sentences 30 to 50:\n",
      "il déteste les pommes , les pêches et les raisins .\n",
      "la californie est le gel habituellement en décembre , et il est occupé en avril .\n",
      "votre animal le plus redouté est que le requin .\n",
      "paris est généralement humide au mois d' août , et il est jamais sec en novembre .\n",
      "paris est généralement beau en septembre , et il est généralement enneigée en novembre .\n",
      "les états-unis est jamais humide en janvier , mais il est généralement chaud en octobre .\n",
      "nous aimons les oranges , les mangues et les raisins .\n",
      "ils aiment les poires , les pommes et les mangues .\n",
      "elle déteste ce petit camion rouge .\n",
      "le pamplemousse est mon fruit le plus cher , mais la banane est la plus aimée .\n",
      "la france est la neige au mois de mai , et il est jamais trop de monde à l' automne .\n",
      "chine est généralement doux pendant l' hiver , mais il est jamais occupé en février .\n",
      "chine est jamais agréable en juillet , mais il est généralement enneigée au printemps .\n",
      "californie est occupé au mois de novembre , mais il est pluvieux à l' automne .\n",
      "chine est chaud au printemps , et il est parfois froid en février .\n",
      "californie est généralement beau pendant l' hiver , mais il est jamais occupé en février .\n",
      "france est merveilleux au mois de novembre , mais il est parfois chaud en septembre .\n",
      "l' inde est généralement agréable en novembre , mais il est jamais relaxant en juillet .\n",
      "les états-unis ne sont jamais gel pendant l' automne , mais il est jamais occupé en juin .\n",
      "paris est parfois chaud en juin , mais il est généralement chaud en juillet .\n"
     ]
    }
   ],
   "source": [
    "view_sentence_range = (30, 50)\n",
    "\n",
    "\"\"\"\n",
    "DON'T MODIFY ANYTHING IN THIS CELL\n",
    "\"\"\"\n",
    "import numpy as np\n",
    "\n",
    "print('Dataset Stats')\n",
    "print('Roughly the number of unique words: {}'.format(len({word: None for word in source_text.split()})))\n",
    "\n",
    "sentences = source_text.split('\\n')\n",
    "word_counts = [len(sentence.split()) for sentence in sentences]\n",
    "print('Number of sentences: {}'.format(len(sentences)))\n",
    "print('Average number of words in a sentence: {}'.format(np.average(word_counts)))\n",
    "\n",
    "print()\n",
    "print('English sentences {} to {}:'.format(*view_sentence_range))\n",
    "print('\\n'.join(source_text.split('\\n')[view_sentence_range[0]:view_sentence_range[1]]))\n",
    "print()\n",
    "print('French sentences {} to {}:'.format(*view_sentence_range))\n",
    "print('\\n'.join(target_text.split('\\n')[view_sentence_range[0]:view_sentence_range[1]]))"
   ]
  },
  {
   "cell_type": "markdown",
   "metadata": {
    "deletable": true,
    "editable": true
   },
   "source": [
    "## Implement Preprocessing Function\n",
    "### Text to Word Ids\n",
    "As you did with other RNNs, you must turn the text into a number so the computer can understand it. In the function `text_to_ids()`, you'll turn `source_text` and `target_text` from words to ids.  However, you need to add the `<EOS>` word id at the end of `target_text`.  This will help the neural network predict when the sentence should end.\n",
    "\n",
    "You can get the `<EOS>` word id by doing:\n",
    "```python\n",
    "target_vocab_to_int['<EOS>']\n",
    "```\n",
    "You can get other word ids using `source_vocab_to_int` and `target_vocab_to_int`."
   ]
  },
  {
   "cell_type": "code",
   "execution_count": 3,
   "metadata": {
    "collapsed": false,
    "deletable": true,
    "editable": true
   },
   "outputs": [
    {
     "name": "stdout",
     "output_type": "stream",
     "text": [
      "Tests Passed\n"
     ]
    }
   ],
   "source": [
    "def text_to_ids(source_text, target_text, source_vocab_to_int, target_vocab_to_int):\n",
    "    \"\"\"\n",
    "    Convert source and target text to proper word ids\n",
    "    :param source_text: String that contains all the source text.\n",
    "    :param target_text: String that contains all the target text.\n",
    "    :param source_vocab_to_int: Dictionary to go from the source words to an id\n",
    "    :param target_vocab_to_int: Dictionary to go from the target words to an id\n",
    "    :return: A tuple of lists (source_id_text, target_id_text)\n",
    "    \"\"\"\n",
    "    source_ints = []\n",
    "    for source_sentence in source_text.split('\\n'):\n",
    "        source_ints += [[source_vocab_to_int[x] for x in source_sentence.split()]]\n",
    "    target_ints = [] \n",
    "    for target_sentence in target_text.split('\\n'):\n",
    "        target_list = [target_vocab_to_int[x] for x in target_sentence.split()]\n",
    "        target_list += [target_vocab_to_int['<EOS>']]\n",
    "        target_ints += [target_list]\n",
    "    return (source_ints, target_ints)\n",
    "\n",
    "\"\"\"\n",
    "DON'T MODIFY ANYTHING IN THIS CELL THAT IS BELOW THIS LINE\n",
    "\"\"\"\n",
    "tests.test_text_to_ids(text_to_ids)"
   ]
  },
  {
   "cell_type": "markdown",
   "metadata": {
    "deletable": true,
    "editable": true
   },
   "source": [
    "### Preprocess all the data and save it\n",
    "Running the code cell below will preprocess all the data and save it to file."
   ]
  },
  {
   "cell_type": "code",
   "execution_count": 12,
   "metadata": {
    "collapsed": false,
    "deletable": true,
    "editable": true
   },
   "outputs": [],
   "source": [
    "\"\"\"\n",
    "DON'T MODIFY ANYTHING IN THIS CELL\n",
    "\"\"\"\n",
    "helper.preprocess_and_save_data(source_path, target_path, text_to_ids)"
   ]
  },
  {
   "cell_type": "markdown",
   "metadata": {
    "deletable": true,
    "editable": true
   },
   "source": [
    "# Check Point\n",
    "This is your first checkpoint. If you ever decide to come back to this notebook or have to restart the notebook, you can start from here. The preprocessed data has been saved to disk."
   ]
  },
  {
   "cell_type": "code",
   "execution_count": 4,
   "metadata": {
    "collapsed": false,
    "deletable": true,
    "editable": true
   },
   "outputs": [],
   "source": [
    "\"\"\"\n",
    "DON'T MODIFY ANYTHING IN THIS CELL\n",
    "\"\"\"\n",
    "import numpy as np\n",
    "import helper\n",
    "\n",
    "(source_int_text, target_int_text), (source_vocab_to_int, target_vocab_to_int), _ = helper.load_preprocess()"
   ]
  },
  {
   "cell_type": "markdown",
   "metadata": {
    "deletable": true,
    "editable": true
   },
   "source": [
    "### Check the Version of TensorFlow and Access to GPU\n",
    "This will check to make sure you have the correct version of TensorFlow and access to a GPU"
   ]
  },
  {
   "cell_type": "code",
   "execution_count": 5,
   "metadata": {
    "collapsed": false,
    "deletable": true,
    "editable": true
   },
   "outputs": [
    {
     "name": "stdout",
     "output_type": "stream",
     "text": [
      "TensorFlow Version: 1.1.0\n",
      "Default GPU Device: /gpu:0\n"
     ]
    }
   ],
   "source": [
    "\"\"\"\n",
    "DON'T MODIFY ANYTHING IN THIS CELL\n",
    "\"\"\"\n",
    "from distutils.version import LooseVersion\n",
    "import warnings\n",
    "import tensorflow as tf\n",
    "from tensorflow.python.layers.core import Dense\n",
    "\n",
    "# Check TensorFlow Version\n",
    "assert LooseVersion(tf.__version__) >= LooseVersion('1.1'), 'Please use TensorFlow version 1.1 or newer'\n",
    "print('TensorFlow Version: {}'.format(tf.__version__))\n",
    "\n",
    "# Check for a GPU\n",
    "if not tf.test.gpu_device_name():\n",
    "    warnings.warn('No GPU found. Please use a GPU to train your neural network.')\n",
    "else:\n",
    "    print('Default GPU Device: {}'.format(tf.test.gpu_device_name()))"
   ]
  },
  {
   "cell_type": "markdown",
   "metadata": {
    "deletable": true,
    "editable": true
   },
   "source": [
    "## Build the Neural Network\n",
    "You'll build the components necessary to build a Sequence-to-Sequence model by implementing the following functions below:\n",
    "- `model_inputs`\n",
    "- `process_decoder_input`\n",
    "- `encoding_layer`\n",
    "- `decoding_layer_train`\n",
    "- `decoding_layer_infer`\n",
    "- `decoding_layer`\n",
    "- `seq2seq_model`\n",
    "\n",
    "### Input\n",
    "Implement the `model_inputs()` function to create TF Placeholders for the Neural Network. It should create the following placeholders:\n",
    "\n",
    "- Input text placeholder named \"input\" using the TF Placeholder name parameter with rank 2.\n",
    "- Targets placeholder with rank 2.\n",
    "- Learning rate placeholder with rank 0.\n",
    "- Keep probability placeholder named \"keep_prob\" using the TF Placeholder name parameter with rank 0.\n",
    "- Target sequence length placeholder named \"target_sequence_length\" with rank 1\n",
    "- Max target sequence length tensor named \"max_target_len\" getting its value from applying tf.reduce_max on the target_sequence_length placeholder. Rank 0.\n",
    "- Source sequence length placeholder named \"source_sequence_length\" with rank 1\n",
    "\n",
    "Return the placeholders in the following the tuple (input, targets, learning rate, keep probability, target sequence length, max target sequence length, source sequence length)"
   ]
  },
  {
   "cell_type": "code",
   "execution_count": 22,
   "metadata": {
    "collapsed": false,
    "deletable": true,
    "editable": true
   },
   "outputs": [
    {
     "name": "stdout",
     "output_type": "stream",
     "text": [
      "Tests Passed\n"
     ]
    }
   ],
   "source": [
    "def model_inputs():\n",
    "    \"\"\"\n",
    "    Create TF Placeholders for input, targets, learning rate, and lengths of source and target sequences.\n",
    "    :return: Tuple (input, targets, learning rate, keep probability, target sequence length,\n",
    "    max target sequence length, source sequence length)\n",
    "    \"\"\"\n",
    "    inputs = tf.placeholder(tf.int32, shape=(None, None), name='input')\n",
    "    targets = tf.placeholder(tf.int32, shape=(None, None), name='targets')\n",
    "    learning_rate = tf.placeholder(tf.float32, name='learning_rate')\n",
    "    keep_prob = tf.placeholder(tf.float32, name='keep_prob')\n",
    "    target_sequence_length = tf.placeholder(tf.int32, shape=(None,), name='target_sequence_length')\n",
    "    max_target_len = tf.reduce_max(target_sequence_length)\n",
    "    source_sequence_length = tf.placeholder(tf.int32, shape=(None,), name='source_sequence_length')\n",
    "    return (inputs, targets, learning_rate, keep_prob, target_sequence_length, max_target_len, source_sequence_length)\n",
    "\n",
    "\n",
    "\"\"\"\n",
    "DON'T MODIFY ANYTHING IN THIS CELL THAT IS BELOW THIS LINE\n",
    "\"\"\"\n",
    "tests.test_model_inputs(model_inputs)"
   ]
  },
  {
   "cell_type": "markdown",
   "metadata": {
    "deletable": true,
    "editable": true
   },
   "source": [
    "### Process Decoder Input\n",
    "Implement `process_decoder_input` by removing the last word id from each batch in `target_data` and concat the GO ID to the begining of each batch."
   ]
  },
  {
   "cell_type": "code",
   "execution_count": 23,
   "metadata": {
    "collapsed": false,
    "deletable": true,
    "editable": true
   },
   "outputs": [
    {
     "name": "stdout",
     "output_type": "stream",
     "text": [
      "Tests Passed\n"
     ]
    }
   ],
   "source": [
    "def process_decoder_input(target_data, target_vocab_to_int, batch_size):\n",
    "    \"\"\"\n",
    "    Preprocess target data for encoding\n",
    "    :param target_data: Target Placehoder\n",
    "    :param target_vocab_to_int: Dictionary to go from the target words to an id\n",
    "    :param batch_size: Batch Size\n",
    "    :return: Preprocessed target data\n",
    "    \"\"\"\n",
    "    trim_last_id = tf.strided_slice(target_data, (0,0), (batch_size, -1), (1,1))\n",
    "    new_target = tf.concat([tf.fill([batch_size, 1], target_vocab_to_int['<GO>']), trim_last_id], 1)\n",
    "    return new_target\n",
    "\n",
    "\"\"\"\n",
    "DON'T MODIFY ANYTHING IN THIS CELL THAT IS BELOW THIS LINE\n",
    "\"\"\"\n",
    "tests.test_process_encoding_input(process_decoder_input)"
   ]
  },
  {
   "cell_type": "markdown",
   "metadata": {
    "deletable": true,
    "editable": true
   },
   "source": [
    "### Encoding\n",
    "Implement `encoding_layer()` to create a Encoder RNN layer:\n",
    " * Embed the encoder input using [`tf.contrib.layers.embed_sequence`](https://www.tensorflow.org/api_docs/python/tf/contrib/layers/embed_sequence)\n",
    " * Construct a [stacked](https://github.com/tensorflow/tensorflow/blob/6947f65a374ebf29e74bb71e36fd82760056d82c/tensorflow/docs_src/tutorials/recurrent.md#stacking-multiple-lstms) [`tf.contrib.rnn.LSTMCell`](https://www.tensorflow.org/api_docs/python/tf/contrib/rnn/LSTMCell) wrapped in a [`tf.contrib.rnn.DropoutWrapper`](https://www.tensorflow.org/api_docs/python/tf/contrib/rnn/DropoutWrapper)\n",
    " * Pass cell and embedded input to [`tf.nn.dynamic_rnn()`](https://www.tensorflow.org/api_docs/python/tf/nn/dynamic_rnn)"
   ]
  },
  {
   "cell_type": "code",
   "execution_count": 24,
   "metadata": {
    "collapsed": false,
    "deletable": true,
    "editable": true,
    "scrolled": false
   },
   "outputs": [
    {
     "name": "stdout",
     "output_type": "stream",
     "text": [
      "Tests Passed\n"
     ]
    }
   ],
   "source": [
    "from imp import reload\n",
    "reload(tests)\n",
    "\n",
    "def encoding_layer(rnn_inputs, rnn_size, num_layers, keep_prob, \n",
    "                   source_sequence_length, source_vocab_size, \n",
    "                   encoding_embedding_size):\n",
    "    \"\"\"\n",
    "    Create encoding layer\n",
    "    :param rnn_inputs: Inputs for the RNN\n",
    "    :param rnn_size: RNN Size\n",
    "    :param num_layers: Number of layers\n",
    "    :param keep_prob: Dropout keep probability\n",
    "    :param source_sequence_length: a list of the lengths of each sequence in the batch\n",
    "    :param source_vocab_size: vocabulary size of source data\n",
    "    :param encoding_embedding_size: embedding size of source data\n",
    "    :return: tuple (RNN output, RNN state)\n",
    "    \"\"\"\n",
    "    # TODO: Implement Function\n",
    "    embedded_seq = tf.contrib.layers.embed_sequence(rnn_inputs, vocab_size=source_vocab_size, embed_dim=encoding_embedding_size)\n",
    "    def make_cell(rnn_size):\n",
    "        cell = tf.contrib.rnn.LSTMCell(rnn_size, initializer=tf.random_uniform_initializer(-0.1, 0.1, seed=7))\n",
    "        cell = tf.contrib.rnn.DropoutWrapper(cell, output_keep_prob=keep_prob)\n",
    "        return cell\n",
    "    encoder_cell = tf.contrib.rnn.MultiRNNCell([make_cell(rnn_size) for _ in range(num_layers)])\n",
    "    encoder_output, encoder_state = tf.nn.dynamic_rnn(encoder_cell, embedded_seq, sequence_length=source_sequence_length, dtype=tf.float32)\n",
    "    return (encoder_output, encoder_state)\n",
    "\n",
    "\"\"\"\n",
    "DON'T MODIFY ANYTHING IN THIS CELL THAT IS BELOW THIS LINE\n",
    "\"\"\"\n",
    "tests.test_encoding_layer(encoding_layer)"
   ]
  },
  {
   "cell_type": "markdown",
   "metadata": {
    "deletable": true,
    "editable": true
   },
   "source": [
    "### Decoding - Training\n",
    "Create a training decoding layer:\n",
    "* Create a [`tf.contrib.seq2seq.TrainingHelper`](https://www.tensorflow.org/api_docs/python/tf/contrib/seq2seq/TrainingHelper) \n",
    "* Create a [`tf.contrib.seq2seq.BasicDecoder`](https://www.tensorflow.org/api_docs/python/tf/contrib/seq2seq/BasicDecoder)\n",
    "* Obtain the decoder outputs from [`tf.contrib.seq2seq.dynamic_decode`](https://www.tensorflow.org/api_docs/python/tf/contrib/seq2seq/dynamic_decode)"
   ]
  },
  {
   "cell_type": "code",
   "execution_count": 25,
   "metadata": {
    "collapsed": false,
    "deletable": true,
    "editable": true
   },
   "outputs": [
    {
     "name": "stdout",
     "output_type": "stream",
     "text": [
      "Tests Passed\n"
     ]
    }
   ],
   "source": [
    "\n",
    "def decoding_layer_train(encoder_state, dec_cell, dec_embed_input, \n",
    "                         target_sequence_length, max_summary_length, \n",
    "                         output_layer, keep_prob):\n",
    "    \"\"\"\n",
    "    Create a decoding layer for training\n",
    "    :param encoder_state: Encoder State\n",
    "    :param dec_cell: Decoder RNN Cell\n",
    "    :param dec_embed_input: Decoder embedded input\n",
    "    :param target_sequence_length: The lengths of each sequence in the target batch\n",
    "    :param max_summary_length: The length of the longest sequence in the batch\n",
    "    :param output_layer: Function to apply the output layer\n",
    "    :param keep_prob: Dropout keep probability\n",
    "    :return: BasicDecoderOutput containing training logits and sample_id\n",
    "    \"\"\"\n",
    "    training_helper = tf.contrib.seq2seq.TrainingHelper(inputs=dec_embed_input, sequence_length=target_sequence_length)\n",
    "    training_decoder = tf.contrib.seq2seq.BasicDecoder(dec_cell, training_helper, encoder_state, output_layer)\n",
    "    decoder_output, _ = tf.contrib.seq2seq.dynamic_decode(training_decoder, impute_finished=True, maximum_iterations=max_summary_length)\n",
    "    return decoder_output\n",
    "\n",
    "\n",
    "\"\"\"\n",
    "DON'T MODIFY ANYTHING IN THIS CELL THAT IS BELOW THIS LINE\n",
    "\"\"\"\n",
    "tests.test_decoding_layer_train(decoding_layer_train)"
   ]
  },
  {
   "cell_type": "markdown",
   "metadata": {
    "deletable": true,
    "editable": true
   },
   "source": [
    "### Decoding - Inference\n",
    "Create inference decoder:\n",
    "* Create a [`tf.contrib.seq2seq.GreedyEmbeddingHelper`](https://www.tensorflow.org/api_docs/python/tf/contrib/seq2seq/GreedyEmbeddingHelper)\n",
    "* Create a [`tf.contrib.seq2seq.BasicDecoder`](https://www.tensorflow.org/api_docs/python/tf/contrib/seq2seq/BasicDecoder)\n",
    "* Obtain the decoder outputs from [`tf.contrib.seq2seq.dynamic_decode`](https://www.tensorflow.org/api_docs/python/tf/contrib/seq2seq/dynamic_decode)"
   ]
  },
  {
   "cell_type": "code",
   "execution_count": 26,
   "metadata": {
    "collapsed": false,
    "deletable": true,
    "editable": true,
    "scrolled": true
   },
   "outputs": [
    {
     "name": "stdout",
     "output_type": "stream",
     "text": [
      "Tests Passed\n"
     ]
    }
   ],
   "source": [
    "def decoding_layer_infer(encoder_state, dec_cell, dec_embeddings, start_of_sequence_id,\n",
    "                         end_of_sequence_id, max_target_sequence_length,\n",
    "                         vocab_size, output_layer, batch_size, keep_prob):\n",
    "    \"\"\"\n",
    "    Create a decoding layer for inference\n",
    "    :param encoder_state: Encoder state\n",
    "    :param dec_cell: Decoder RNN Cell\n",
    "    :param dec_embeddings: Decoder embeddings\n",
    "    :param start_of_sequence_id: GO ID\n",
    "    :param end_of_sequence_id: EOS Id\n",
    "    :param max_target_sequence_length: Maximum length of target sequences\n",
    "    :param vocab_size: Size of decoder/target vocabulary\n",
    "    :param decoding_scope: TenorFlow Variable Scope for decoding\n",
    "    :param output_layer: Function to apply the output layer\n",
    "    :param batch_size: Batch size\n",
    "    :param keep_prob: Dropout keep probability\n",
    "    :return: BasicDecoderOutput containing inference logits and sample_id\n",
    "    \"\"\"\n",
    "    start_tokens = tf.tile(tf.constant([start_of_sequence_id], dtype=tf.int32), [batch_size], name='start_tokens')\n",
    "          \n",
    "    inference_helper = tf.contrib.seq2seq.GreedyEmbeddingHelper(dec_embeddings, start_tokens, end_of_sequence_id)\n",
    "    inference_decoder = tf.contrib.seq2seq.BasicDecoder(dec_cell, inference_helper, encoder_state, output_layer)\n",
    "    decoder_output, _ = tf.contrib.seq2seq.dynamic_decode(inference_decoder, impute_finished=True, maximum_iterations=max_target_sequence_length)\n",
    "    \n",
    "    return decoder_output\n",
    "\n",
    "\n",
    "\"\"\"\n",
    "DON'T MODIFY ANYTHING IN THIS CELL THAT IS BELOW THIS LINE\n",
    "\"\"\"\n",
    "tests.test_decoding_layer_infer(decoding_layer_infer)"
   ]
  },
  {
   "cell_type": "markdown",
   "metadata": {
    "deletable": true,
    "editable": true
   },
   "source": [
    "### Build the Decoding Layer\n",
    "Implement `decoding_layer()` to create a Decoder RNN layer.\n",
    "\n",
    "* Embed the target sequences\n",
    "* Construct the decoder LSTM cell (just like you constructed the encoder cell above)\n",
    "* Create an output layer to map the outputs of the decoder to the elements of our vocabulary\n",
    "* Use the your `decoding_layer_train(encoder_state, dec_cell, dec_embed_input, target_sequence_length, max_target_sequence_length, output_layer, keep_prob)` function to get the training logits.\n",
    "* Use your `decoding_layer_infer(encoder_state, dec_cell, dec_embeddings, start_of_sequence_id, end_of_sequence_id, max_target_sequence_length, vocab_size, output_layer, batch_size, keep_prob)` function to get the inference logits.\n",
    "\n",
    "Note: You'll need to use [tf.variable_scope](https://www.tensorflow.org/api_docs/python/tf/variable_scope) to share variables between training and inference."
   ]
  },
  {
   "cell_type": "code",
   "execution_count": 27,
   "metadata": {
    "collapsed": false,
    "deletable": true,
    "editable": true
   },
   "outputs": [
    {
     "name": "stdout",
     "output_type": "stream",
     "text": [
      "Tests Passed\n"
     ]
    }
   ],
   "source": [
    "def decoding_layer(dec_input, encoder_state,\n",
    "                   target_sequence_length, max_target_sequence_length,\n",
    "                   rnn_size,\n",
    "                   num_layers, target_vocab_to_int, target_vocab_size,\n",
    "                   batch_size, keep_prob, decoding_embedding_size):\n",
    "    \"\"\"\n",
    "    Create decoding layer\n",
    "    :param dec_input: Decoder input\n",
    "    :param encoder_state: Encoder state\n",
    "    :param target_sequence_length: The lengths of each sequence in the target batch\n",
    "    :param max_target_sequence_length: Maximum length of target sequences\n",
    "    :param rnn_size: RNN Size\n",
    "    :param num_layers: Number of layers\n",
    "    :param target_vocab_to_int: Dictionary to go from the target words to an id\n",
    "    :param target_vocab_size: Size of target vocabulary\n",
    "    :param batch_size: The size of the batch\n",
    "    :param keep_prob: Dropout keep probability\n",
    "    :param decoding_embedding_size: Decoding embedding size\n",
    "    :return: Tuple of (Training BasicDecoderOutput, Inference BasicDecoderOutput)\n",
    "    \"\"\"\n",
    "    #print(dec_input.shape.as_list())\n",
    "    decoder_embeddings = tf.Variable(tf.random_uniform([target_vocab_size, decoding_embedding_size]))\n",
    "    #print(decoder_embeddings.shape.as_list())\n",
    "    embedding_input = tf.nn.embedding_lookup(decoder_embeddings, dec_input)\n",
    "    #print(embedding_input.shape.as_list())\n",
    "    def make_cell(rnn_inputs):\n",
    "        cell = tf.contrib.rnn.LSTMCell(rnn_inputs)\n",
    "        cell = tf.contrib.rnn.DropoutWrapper(cell, output_keep_prob=keep_prob)\n",
    "        return cell\n",
    "    \n",
    "    decoder_cell = tf.contrib.rnn.MultiRNNCell([make_cell(rnn_size) for _ in range(num_layers)])\n",
    "    output_layer = Dense(target_vocab_size, kernel_initializer=tf.truncated_normal_initializer(mean=0.0, stddev=0.1))\n",
    "    \n",
    "    start_of_sequence_id = target_vocab_to_int['<GO>']\n",
    "    end_of_sequence_id = target_vocab_to_int['<EOS>']\n",
    "    with tf.variable_scope('decode'):\n",
    "        training_logits = decoding_layer_train(encoder_state, decoder_cell, embedding_input, target_sequence_length, max_target_sequence_length, output_layer, keep_prob)\n",
    "    with tf.variable_scope('decode', reuse=True):\n",
    "        inference_logits = decoding_layer_infer(encoder_state, decoder_cell, decoder_embeddings, start_of_sequence_id, end_of_sequence_id, max_target_sequence_length, target_vocab_size, output_layer, batch_size, keep_prob)\n",
    "    \n",
    "    return (training_logits, inference_logits)\n",
    "\n",
    "\n",
    "\n",
    "\"\"\"\n",
    "DON'T MODIFY ANYTHING IN THIS CELL THAT IS BELOW THIS LINE\n",
    "\"\"\"\n",
    "tests.test_decoding_layer(decoding_layer)"
   ]
  },
  {
   "cell_type": "markdown",
   "metadata": {
    "deletable": true,
    "editable": true
   },
   "source": [
    "### Build the Neural Network\n",
    "Apply the functions you implemented above to:\n",
    "\n",
    "- Encode the input using your `encoding_layer(rnn_inputs, rnn_size, num_layers, keep_prob,  source_sequence_length, source_vocab_size, encoding_embedding_size)`.\n",
    "- Process target data using your `process_decoder_input(target_data, target_vocab_to_int, batch_size)` function.\n",
    "- Decode the encoded input using your `decoding_layer(dec_input, enc_state, target_sequence_length, max_target_sentence_length, rnn_size, num_layers, target_vocab_to_int, target_vocab_size, batch_size, keep_prob, dec_embedding_size)` function."
   ]
  },
  {
   "cell_type": "code",
   "execution_count": 29,
   "metadata": {
    "collapsed": false,
    "deletable": true,
    "editable": true
   },
   "outputs": [
    {
     "name": "stdout",
     "output_type": "stream",
     "text": [
      "Tests Passed\n"
     ]
    }
   ],
   "source": [
    "def seq2seq_model(input_data, target_data, keep_prob, batch_size,\n",
    "                  source_sequence_length, target_sequence_length,\n",
    "                  max_target_sentence_length,\n",
    "                  source_vocab_size, target_vocab_size,\n",
    "                  enc_embedding_size, dec_embedding_size,\n",
    "                  rnn_size, num_layers, target_vocab_to_int):\n",
    "    \"\"\"\n",
    "    Build the Sequence-to-Sequence part of the neural network\n",
    "    :param input_data: Input placeholder\n",
    "    :param target_data: Target placeholder\n",
    "    :param keep_prob: Dropout keep probability placeholder\n",
    "    :param batch_size: Batch Size\n",
    "    :param source_sequence_length: Sequence Lengths of source sequences in the batch\n",
    "    :param target_sequence_length: Sequence Lengths of target sequences in the batch\n",
    "    :param source_vocab_size: Source vocabulary size\n",
    "    :param target_vocab_size: Target vocabulary size\n",
    "    :param enc_embedding_size: Decoder embedding size\n",
    "    :param dec_embedding_size: Encoder embedding size\n",
    "    :param rnn_size: RNN Size\n",
    "    :param num_layers: Number of layers\n",
    "    :param target_vocab_to_int: Dictionary to go from the target words to an id\n",
    "    :return: Tuple of (Training BasicDecoderOutput, Inference BasicDecoderOutput)\n",
    "    \"\"\"\n",
    "    (_, encoder_state) = encoding_layer(input_data, rnn_size, num_layers, keep_prob, source_sequence_length, source_vocab_size, enc_embedding_size)\n",
    "    targets = process_decoder_input(target_data, target_vocab_to_int, batch_size)\n",
    "    (train_results, inference_results) = decoding_layer(targets, encoder_state, target_sequence_length, max_target_sentence_length, rnn_size, num_layers, target_vocab_to_int, target_vocab_size, batch_size, keep_prob, dec_embedding_size)\n",
    "    return (train_results, inference_results)\n",
    "\n",
    "\n",
    "\"\"\"\n",
    "DON'T MODIFY ANYTHING IN THIS CELL THAT IS BELOW THIS LINE\n",
    "\"\"\"\n",
    "tests.test_seq2seq_model(seq2seq_model)"
   ]
  },
  {
   "cell_type": "markdown",
   "metadata": {
    "deletable": true,
    "editable": true
   },
   "source": [
    "## Neural Network Training\n",
    "### Hyperparameters\n",
    "Tune the following parameters:\n",
    "\n",
    "- Set `epochs` to the number of epochs.\n",
    "- Set `batch_size` to the batch size.\n",
    "- Set `rnn_size` to the size of the RNNs.\n",
    "- Set `num_layers` to the number of layers.\n",
    "- Set `encoding_embedding_size` to the size of the embedding for the encoder.\n",
    "- Set `decoding_embedding_size` to the size of the embedding for the decoder.\n",
    "- Set `learning_rate` to the learning rate.\n",
    "- Set `keep_probability` to the Dropout keep probability\n",
    "- Set `display_step` to state how many steps between each debug output statement"
   ]
  },
  {
   "cell_type": "code",
   "execution_count": 34,
   "metadata": {
    "collapsed": true,
    "deletable": true,
    "editable": true
   },
   "outputs": [],
   "source": [
    "# Number of Epochs\n",
    "epochs = 15\n",
    "# Batch Size\n",
    "batch_size = 128\n",
    "# RNN Size\n",
    "rnn_size = 60\n",
    "# Number of Layers\n",
    "num_layers = 2\n",
    "# Embedding Size\n",
    "encoding_embedding_size = 200\n",
    "decoding_embedding_size = 200\n",
    "# Learning Rate\n",
    "learning_rate = 0.001\n",
    "# Dropout Keep Probability\n",
    "keep_probability = 0.75\n",
    "display_step = 50"
   ]
  },
  {
   "cell_type": "markdown",
   "metadata": {
    "deletable": true,
    "editable": true
   },
   "source": [
    "### Build the Graph\n",
    "Build the graph using the neural network you implemented."
   ]
  },
  {
   "cell_type": "code",
   "execution_count": 35,
   "metadata": {
    "collapsed": false,
    "deletable": true,
    "editable": true
   },
   "outputs": [],
   "source": [
    "\"\"\"\n",
    "DON'T MODIFY ANYTHING IN THIS CELL\n",
    "\"\"\"\n",
    "save_path = 'checkpoints/dev'\n",
    "(source_int_text, target_int_text), (source_vocab_to_int, target_vocab_to_int), _ = helper.load_preprocess()\n",
    "max_target_sentence_length = max([len(sentence) for sentence in source_int_text])\n",
    "\n",
    "train_graph = tf.Graph()\n",
    "with train_graph.as_default():\n",
    "    input_data, targets, lr, keep_prob, target_sequence_length, max_target_sequence_length, source_sequence_length = model_inputs()\n",
    "\n",
    "    #sequence_length = tf.placeholder_with_default(max_target_sentence_length, None, name='sequence_length')\n",
    "    input_shape = tf.shape(input_data)\n",
    "\n",
    "    train_logits, inference_logits = seq2seq_model(tf.reverse(input_data, [-1]),\n",
    "                                                   targets,\n",
    "                                                   keep_prob,\n",
    "                                                   batch_size,\n",
    "                                                   source_sequence_length,\n",
    "                                                   target_sequence_length,\n",
    "                                                   max_target_sequence_length,\n",
    "                                                   len(source_vocab_to_int),\n",
    "                                                   len(target_vocab_to_int),\n",
    "                                                   encoding_embedding_size,\n",
    "                                                   decoding_embedding_size,\n",
    "                                                   rnn_size,\n",
    "                                                   num_layers,\n",
    "                                                   target_vocab_to_int)\n",
    "\n",
    "\n",
    "    training_logits = tf.identity(train_logits.rnn_output, name='logits')\n",
    "    inference_logits = tf.identity(inference_logits.sample_id, name='predictions')\n",
    "\n",
    "    masks = tf.sequence_mask(target_sequence_length, max_target_sequence_length, dtype=tf.float32, name='masks')\n",
    "\n",
    "    with tf.name_scope(\"optimization\"):\n",
    "        # Loss function\n",
    "        cost = tf.contrib.seq2seq.sequence_loss(\n",
    "            training_logits,\n",
    "            targets,\n",
    "            masks)\n",
    "\n",
    "        # Optimizer\n",
    "        optimizer = tf.train.AdamOptimizer(lr)\n",
    "\n",
    "        # Gradient Clipping\n",
    "        gradients = optimizer.compute_gradients(cost)\n",
    "        capped_gradients = [(tf.clip_by_value(grad, -1., 1.), var) for grad, var in gradients if grad is not None]\n",
    "        train_op = optimizer.apply_gradients(capped_gradients)\n"
   ]
  },
  {
   "cell_type": "markdown",
   "metadata": {
    "deletable": true,
    "editable": true
   },
   "source": [
    "Batch and pad the source and target sequences"
   ]
  },
  {
   "cell_type": "code",
   "execution_count": 36,
   "metadata": {
    "collapsed": true,
    "deletable": true,
    "editable": true
   },
   "outputs": [],
   "source": [
    "\"\"\"\n",
    "DON'T MODIFY ANYTHING IN THIS CELL\n",
    "\"\"\"\n",
    "def pad_sentence_batch(sentence_batch, pad_int):\n",
    "    \"\"\"Pad sentences with <PAD> so that each sentence of a batch has the same length\"\"\"\n",
    "    max_sentence = max([len(sentence) for sentence in sentence_batch])\n",
    "    return [sentence + [pad_int] * (max_sentence - len(sentence)) for sentence in sentence_batch]\n",
    "\n",
    "\n",
    "def get_batches(sources, targets, batch_size, source_pad_int, target_pad_int):\n",
    "    \"\"\"Batch targets, sources, and the lengths of their sentences together\"\"\"\n",
    "    for batch_i in range(0, len(sources)//batch_size):\n",
    "        start_i = batch_i * batch_size\n",
    "\n",
    "        # Slice the right amount for the batch\n",
    "        sources_batch = sources[start_i:start_i + batch_size]\n",
    "        targets_batch = targets[start_i:start_i + batch_size]\n",
    "\n",
    "        # Pad\n",
    "        pad_sources_batch = np.array(pad_sentence_batch(sources_batch, source_pad_int))\n",
    "        pad_targets_batch = np.array(pad_sentence_batch(targets_batch, target_pad_int))\n",
    "\n",
    "        # Need the lengths for the _lengths parameters\n",
    "        pad_targets_lengths = []\n",
    "        for target in pad_targets_batch:\n",
    "            pad_targets_lengths.append(len(target))\n",
    "\n",
    "        pad_source_lengths = []\n",
    "        for source in pad_sources_batch:\n",
    "            pad_source_lengths.append(len(source))\n",
    "\n",
    "        yield pad_sources_batch, pad_targets_batch, pad_source_lengths, pad_targets_lengths\n"
   ]
  },
  {
   "cell_type": "markdown",
   "metadata": {
    "deletable": true,
    "editable": true
   },
   "source": [
    "### Train\n",
    "Train the neural network on the preprocessed data. If you have a hard time getting a good loss, check the forms to see if anyone is having the same problem."
   ]
  },
  {
   "cell_type": "code",
   "execution_count": 37,
   "metadata": {
    "collapsed": false,
    "deletable": true,
    "editable": true,
    "scrolled": true
   },
   "outputs": [
    {
     "name": "stdout",
     "output_type": "stream",
     "text": [
      "Epoch   0 Batch   50/1077 - Train Accuracy: 0.2703, Validation Accuracy: 0.3512, Loss: 3.4550\n",
      "Epoch   0 Batch  100/1077 - Train Accuracy: 0.3164, Validation Accuracy: 0.3881, Loss: 3.0174\n",
      "Epoch   0 Batch  150/1077 - Train Accuracy: 0.4074, Validation Accuracy: 0.4300, Loss: 2.6280\n",
      "Epoch   0 Batch  200/1077 - Train Accuracy: 0.3973, Validation Accuracy: 0.4471, Loss: 2.5493\n",
      "Epoch   0 Batch  250/1077 - Train Accuracy: 0.4631, Validation Accuracy: 0.4862, Loss: 2.2153\n",
      "Epoch   0 Batch  300/1077 - Train Accuracy: 0.4256, Validation Accuracy: 0.5039, Loss: 2.3290\n",
      "Epoch   0 Batch  350/1077 - Train Accuracy: 0.4434, Validation Accuracy: 0.5064, Loss: 2.1601\n",
      "Epoch   0 Batch  400/1077 - Train Accuracy: 0.4621, Validation Accuracy: 0.4908, Loss: 1.9402\n",
      "Epoch   0 Batch  450/1077 - Train Accuracy: 0.4484, Validation Accuracy: 0.4876, Loss: 1.7608\n",
      "Epoch   0 Batch  500/1077 - Train Accuracy: 0.4926, Validation Accuracy: 0.5153, Loss: 1.5771\n",
      "Epoch   0 Batch  550/1077 - Train Accuracy: 0.4410, Validation Accuracy: 0.5060, Loss: 1.4704\n",
      "Epoch   0 Batch  600/1077 - Train Accuracy: 0.4699, Validation Accuracy: 0.5103, Loss: 1.2864\n",
      "Epoch   0 Batch  650/1077 - Train Accuracy: 0.4695, Validation Accuracy: 0.5156, Loss: 1.2679\n",
      "Epoch   0 Batch  700/1077 - Train Accuracy: 0.5152, Validation Accuracy: 0.5142, Loss: 1.1511\n",
      "Epoch   0 Batch  750/1077 - Train Accuracy: 0.4938, Validation Accuracy: 0.5192, Loss: 1.0778\n",
      "Epoch   0 Batch  800/1077 - Train Accuracy: 0.4578, Validation Accuracy: 0.5430, Loss: 1.0808\n",
      "Epoch   0 Batch  850/1077 - Train Accuracy: 0.5015, Validation Accuracy: 0.5469, Loss: 1.0562\n",
      "Epoch   0 Batch  900/1077 - Train Accuracy: 0.5234, Validation Accuracy: 0.5597, Loss: 1.0040\n",
      "Epoch   0 Batch  950/1077 - Train Accuracy: 0.5286, Validation Accuracy: 0.5785, Loss: 0.9330\n",
      "Epoch   0 Batch 1000/1077 - Train Accuracy: 0.5919, Validation Accuracy: 0.5792, Loss: 0.8723\n",
      "Epoch   0 Batch 1050/1077 - Train Accuracy: 0.5129, Validation Accuracy: 0.5895, Loss: 0.9155\n",
      "Epoch   1 Batch   50/1077 - Train Accuracy: 0.5535, Validation Accuracy: 0.5902, Loss: 0.8793\n",
      "Epoch   1 Batch  100/1077 - Train Accuracy: 0.5938, Validation Accuracy: 0.5966, Loss: 0.8412\n",
      "Epoch   1 Batch  150/1077 - Train Accuracy: 0.6254, Validation Accuracy: 0.6115, Loss: 0.7675\n",
      "Epoch   1 Batch  200/1077 - Train Accuracy: 0.5781, Validation Accuracy: 0.5952, Loss: 0.8042\n",
      "Epoch   1 Batch  250/1077 - Train Accuracy: 0.5550, Validation Accuracy: 0.6161, Loss: 0.7246\n",
      "Epoch   1 Batch  300/1077 - Train Accuracy: 0.5814, Validation Accuracy: 0.6158, Loss: 0.7696\n",
      "Epoch   1 Batch  350/1077 - Train Accuracy: 0.5527, Validation Accuracy: 0.6108, Loss: 0.7689\n",
      "Epoch   1 Batch  400/1077 - Train Accuracy: 0.6121, Validation Accuracy: 0.6186, Loss: 0.7297\n",
      "Epoch   1 Batch  450/1077 - Train Accuracy: 0.5980, Validation Accuracy: 0.6193, Loss: 0.6934\n",
      "Epoch   1 Batch  500/1077 - Train Accuracy: 0.6129, Validation Accuracy: 0.6342, Loss: 0.7037\n",
      "Epoch   1 Batch  550/1077 - Train Accuracy: 0.5910, Validation Accuracy: 0.6335, Loss: 0.7147\n",
      "Epoch   1 Batch  600/1077 - Train Accuracy: 0.6194, Validation Accuracy: 0.6289, Loss: 0.6373\n",
      "Epoch   1 Batch  650/1077 - Train Accuracy: 0.6012, Validation Accuracy: 0.6491, Loss: 0.6734\n",
      "Epoch   1 Batch  700/1077 - Train Accuracy: 0.6137, Validation Accuracy: 0.6452, Loss: 0.6320\n",
      "Epoch   1 Batch  750/1077 - Train Accuracy: 0.6480, Validation Accuracy: 0.6474, Loss: 0.6254\n",
      "Epoch   1 Batch  800/1077 - Train Accuracy: 0.6160, Validation Accuracy: 0.6555, Loss: 0.6258\n",
      "Epoch   1 Batch  850/1077 - Train Accuracy: 0.6112, Validation Accuracy: 0.6552, Loss: 0.6522\n",
      "Epoch   1 Batch  900/1077 - Train Accuracy: 0.6391, Validation Accuracy: 0.6538, Loss: 0.6243\n",
      "Epoch   1 Batch  950/1077 - Train Accuracy: 0.6094, Validation Accuracy: 0.6641, Loss: 0.5730\n",
      "Epoch   1 Batch 1000/1077 - Train Accuracy: 0.6853, Validation Accuracy: 0.6634, Loss: 0.5470\n",
      "Epoch   1 Batch 1050/1077 - Train Accuracy: 0.6141, Validation Accuracy: 0.6697, Loss: 0.5791\n",
      "Epoch   2 Batch   50/1077 - Train Accuracy: 0.6422, Validation Accuracy: 0.6737, Loss: 0.5612\n",
      "Epoch   2 Batch  100/1077 - Train Accuracy: 0.6602, Validation Accuracy: 0.6744, Loss: 0.5538\n",
      "Epoch   2 Batch  150/1077 - Train Accuracy: 0.6931, Validation Accuracy: 0.6800, Loss: 0.5132\n",
      "Epoch   2 Batch  200/1077 - Train Accuracy: 0.6574, Validation Accuracy: 0.6932, Loss: 0.5417\n",
      "Epoch   2 Batch  250/1077 - Train Accuracy: 0.6598, Validation Accuracy: 0.6978, Loss: 0.4968\n",
      "Epoch   2 Batch  300/1077 - Train Accuracy: 0.6801, Validation Accuracy: 0.7013, Loss: 0.5221\n",
      "Epoch   2 Batch  350/1077 - Train Accuracy: 0.6723, Validation Accuracy: 0.7031, Loss: 0.5173\n",
      "Epoch   2 Batch  400/1077 - Train Accuracy: 0.7113, Validation Accuracy: 0.7152, Loss: 0.5068\n",
      "Epoch   2 Batch  450/1077 - Train Accuracy: 0.7129, Validation Accuracy: 0.6953, Loss: 0.4699\n",
      "Epoch   2 Batch  500/1077 - Train Accuracy: 0.7238, Validation Accuracy: 0.7365, Loss: 0.4742\n",
      "Epoch   2 Batch  550/1077 - Train Accuracy: 0.6992, Validation Accuracy: 0.7219, Loss: 0.4877\n",
      "Epoch   2 Batch  600/1077 - Train Accuracy: 0.7228, Validation Accuracy: 0.7287, Loss: 0.4416\n",
      "Epoch   2 Batch  650/1077 - Train Accuracy: 0.6566, Validation Accuracy: 0.7198, Loss: 0.4633\n",
      "Epoch   2 Batch  700/1077 - Train Accuracy: 0.7547, Validation Accuracy: 0.7266, Loss: 0.4259\n",
      "Epoch   2 Batch  750/1077 - Train Accuracy: 0.7543, Validation Accuracy: 0.7390, Loss: 0.4347\n",
      "Epoch   2 Batch  800/1077 - Train Accuracy: 0.7441, Validation Accuracy: 0.7411, Loss: 0.4306\n",
      "Epoch   2 Batch  850/1077 - Train Accuracy: 0.7106, Validation Accuracy: 0.7511, Loss: 0.4406\n",
      "Epoch   2 Batch  900/1077 - Train Accuracy: 0.7566, Validation Accuracy: 0.7578, Loss: 0.4269\n",
      "Epoch   2 Batch  950/1077 - Train Accuracy: 0.7288, Validation Accuracy: 0.7504, Loss: 0.3845\n",
      "Epoch   2 Batch 1000/1077 - Train Accuracy: 0.7682, Validation Accuracy: 0.7482, Loss: 0.3801\n",
      "Epoch   2 Batch 1050/1077 - Train Accuracy: 0.7434, Validation Accuracy: 0.7706, Loss: 0.3943\n",
      "Epoch   3 Batch   50/1077 - Train Accuracy: 0.7836, Validation Accuracy: 0.7667, Loss: 0.3906\n",
      "Epoch   3 Batch  100/1077 - Train Accuracy: 0.7613, Validation Accuracy: 0.7706, Loss: 0.3921\n",
      "Epoch   3 Batch  150/1077 - Train Accuracy: 0.8032, Validation Accuracy: 0.7635, Loss: 0.3696\n",
      "Epoch   3 Batch  200/1077 - Train Accuracy: 0.7547, Validation Accuracy: 0.7756, Loss: 0.3799\n",
      "Epoch   3 Batch  250/1077 - Train Accuracy: 0.7802, Validation Accuracy: 0.7820, Loss: 0.3447\n",
      "Epoch   3 Batch  300/1077 - Train Accuracy: 0.7973, Validation Accuracy: 0.7830, Loss: 0.3664\n",
      "Epoch   3 Batch  350/1077 - Train Accuracy: 0.8016, Validation Accuracy: 0.7749, Loss: 0.3803\n",
      "Epoch   3 Batch  400/1077 - Train Accuracy: 0.7723, Validation Accuracy: 0.7891, Loss: 0.3638\n",
      "Epoch   3 Batch  450/1077 - Train Accuracy: 0.7820, Validation Accuracy: 0.7681, Loss: 0.3340\n",
      "Epoch   3 Batch  500/1077 - Train Accuracy: 0.8012, Validation Accuracy: 0.7880, Loss: 0.3394\n",
      "Epoch   3 Batch  550/1077 - Train Accuracy: 0.7672, Validation Accuracy: 0.7983, Loss: 0.3337\n",
      "Epoch   3 Batch  600/1077 - Train Accuracy: 0.7794, Validation Accuracy: 0.8072, Loss: 0.3320\n",
      "Epoch   3 Batch  650/1077 - Train Accuracy: 0.7875, Validation Accuracy: 0.8015, Loss: 0.3287\n",
      "Epoch   3 Batch  700/1077 - Train Accuracy: 0.8023, Validation Accuracy: 0.7919, Loss: 0.3059\n",
      "Epoch   3 Batch  750/1077 - Train Accuracy: 0.8195, Validation Accuracy: 0.8146, Loss: 0.3137\n",
      "Epoch   3 Batch  800/1077 - Train Accuracy: 0.8137, Validation Accuracy: 0.8026, Loss: 0.3142\n",
      "Epoch   3 Batch  850/1077 - Train Accuracy: 0.7909, Validation Accuracy: 0.8146, Loss: 0.3362\n",
      "Epoch   3 Batch  900/1077 - Train Accuracy: 0.8187, Validation Accuracy: 0.8068, Loss: 0.3225\n",
      "Epoch   3 Batch  950/1077 - Train Accuracy: 0.8062, Validation Accuracy: 0.8097, Loss: 0.2876\n",
      "Epoch   3 Batch 1000/1077 - Train Accuracy: 0.8110, Validation Accuracy: 0.8001, Loss: 0.2762\n",
      "Epoch   3 Batch 1050/1077 - Train Accuracy: 0.8145, Validation Accuracy: 0.8079, Loss: 0.2925\n",
      "Epoch   4 Batch   50/1077 - Train Accuracy: 0.8465, Validation Accuracy: 0.8143, Loss: 0.2950\n",
      "Epoch   4 Batch  100/1077 - Train Accuracy: 0.8219, Validation Accuracy: 0.8136, Loss: 0.2794\n",
      "Epoch   4 Batch  150/1077 - Train Accuracy: 0.8441, Validation Accuracy: 0.8139, Loss: 0.2646\n",
      "Epoch   4 Batch  200/1077 - Train Accuracy: 0.8336, Validation Accuracy: 0.8271, Loss: 0.2826\n",
      "Epoch   4 Batch  250/1077 - Train Accuracy: 0.8572, Validation Accuracy: 0.8267, Loss: 0.2528\n",
      "Epoch   4 Batch  300/1077 - Train Accuracy: 0.8631, Validation Accuracy: 0.8420, Loss: 0.2705\n",
      "Epoch   4 Batch  350/1077 - Train Accuracy: 0.8340, Validation Accuracy: 0.8178, Loss: 0.2722\n",
      "Epoch   4 Batch  400/1077 - Train Accuracy: 0.8617, Validation Accuracy: 0.8370, Loss: 0.2726\n",
      "Epoch   4 Batch  450/1077 - Train Accuracy: 0.8578, Validation Accuracy: 0.8381, Loss: 0.2568\n",
      "Epoch   4 Batch  500/1077 - Train Accuracy: 0.8750, Validation Accuracy: 0.8313, Loss: 0.2431\n",
      "Epoch   4 Batch  550/1077 - Train Accuracy: 0.8266, Validation Accuracy: 0.8430, Loss: 0.2488\n",
      "Epoch   4 Batch  600/1077 - Train Accuracy: 0.8475, Validation Accuracy: 0.8281, Loss: 0.2416\n",
      "Epoch   4 Batch  650/1077 - Train Accuracy: 0.8574, Validation Accuracy: 0.8406, Loss: 0.2468\n",
      "Epoch   4 Batch  700/1077 - Train Accuracy: 0.8695, Validation Accuracy: 0.8452, Loss: 0.2197\n",
      "Epoch   4 Batch  750/1077 - Train Accuracy: 0.8637, Validation Accuracy: 0.8523, Loss: 0.2361\n",
      "Epoch   4 Batch  800/1077 - Train Accuracy: 0.8672, Validation Accuracy: 0.8526, Loss: 0.2447\n",
      "Epoch   4 Batch  850/1077 - Train Accuracy: 0.8382, Validation Accuracy: 0.8786, Loss: 0.2518\n",
      "Epoch   4 Batch  900/1077 - Train Accuracy: 0.8660, Validation Accuracy: 0.8679, Loss: 0.2405\n",
      "Epoch   4 Batch  950/1077 - Train Accuracy: 0.8672, Validation Accuracy: 0.8633, Loss: 0.1959\n",
      "Epoch   4 Batch 1000/1077 - Train Accuracy: 0.8549, Validation Accuracy: 0.8519, Loss: 0.2088\n",
      "Epoch   4 Batch 1050/1077 - Train Accuracy: 0.8777, Validation Accuracy: 0.8608, Loss: 0.2000\n",
      "Epoch   5 Batch   50/1077 - Train Accuracy: 0.8832, Validation Accuracy: 0.8626, Loss: 0.2041\n",
      "Epoch   5 Batch  100/1077 - Train Accuracy: 0.8922, Validation Accuracy: 0.8622, Loss: 0.2179\n",
      "Epoch   5 Batch  150/1077 - Train Accuracy: 0.8635, Validation Accuracy: 0.8587, Loss: 0.1952\n",
      "Epoch   5 Batch  200/1077 - Train Accuracy: 0.8793, Validation Accuracy: 0.8743, Loss: 0.1988\n",
      "Epoch   5 Batch  250/1077 - Train Accuracy: 0.8960, Validation Accuracy: 0.8690, Loss: 0.1873\n",
      "Epoch   5 Batch  300/1077 - Train Accuracy: 0.9161, Validation Accuracy: 0.8817, Loss: 0.1916\n",
      "Epoch   5 Batch  350/1077 - Train Accuracy: 0.8828, Validation Accuracy: 0.8537, Loss: 0.2020\n",
      "Epoch   5 Batch  400/1077 - Train Accuracy: 0.8980, Validation Accuracy: 0.8913, Loss: 0.2068\n",
      "Epoch   5 Batch  450/1077 - Train Accuracy: 0.9020, Validation Accuracy: 0.8562, Loss: 0.1779\n",
      "Epoch   5 Batch  500/1077 - Train Accuracy: 0.9086, Validation Accuracy: 0.8949, Loss: 0.1657\n",
      "Epoch   5 Batch  550/1077 - Train Accuracy: 0.8590, Validation Accuracy: 0.8821, Loss: 0.1811\n",
      "Epoch   5 Batch  600/1077 - Train Accuracy: 0.9100, Validation Accuracy: 0.8800, Loss: 0.1753\n",
      "Epoch   5 Batch  650/1077 - Train Accuracy: 0.9156, Validation Accuracy: 0.8860, Loss: 0.1823\n",
      "Epoch   5 Batch  700/1077 - Train Accuracy: 0.9187, Validation Accuracy: 0.8828, Loss: 0.1564\n",
      "Epoch   5 Batch  750/1077 - Train Accuracy: 0.9082, Validation Accuracy: 0.8995, Loss: 0.1724\n",
      "Epoch   5 Batch  800/1077 - Train Accuracy: 0.9266, Validation Accuracy: 0.9020, Loss: 0.1575\n",
      "Epoch   5 Batch  850/1077 - Train Accuracy: 0.8787, Validation Accuracy: 0.9006, Loss: 0.1945\n",
      "Epoch   5 Batch  900/1077 - Train Accuracy: 0.9117, Validation Accuracy: 0.9073, Loss: 0.1850\n",
      "Epoch   5 Batch  950/1077 - Train Accuracy: 0.9245, Validation Accuracy: 0.9034, Loss: 0.1714\n",
      "Epoch   5 Batch 1000/1077 - Train Accuracy: 0.8947, Validation Accuracy: 0.9105, Loss: 0.1485\n",
      "Epoch   5 Batch 1050/1077 - Train Accuracy: 0.9371, Validation Accuracy: 0.8913, Loss: 0.1524\n",
      "Epoch   6 Batch   50/1077 - Train Accuracy: 0.9316, Validation Accuracy: 0.8963, Loss: 0.1466\n",
      "Epoch   6 Batch  100/1077 - Train Accuracy: 0.9371, Validation Accuracy: 0.9137, Loss: 0.1409\n",
      "Epoch   6 Batch  150/1077 - Train Accuracy: 0.9379, Validation Accuracy: 0.8935, Loss: 0.1493\n",
      "Epoch   6 Batch  200/1077 - Train Accuracy: 0.8949, Validation Accuracy: 0.9027, Loss: 0.1429\n",
      "Epoch   6 Batch  250/1077 - Train Accuracy: 0.9297, Validation Accuracy: 0.9094, Loss: 0.1278\n",
      "Epoch   6 Batch  300/1077 - Train Accuracy: 0.9441, Validation Accuracy: 0.8938, Loss: 0.1452\n",
      "Epoch   6 Batch  350/1077 - Train Accuracy: 0.9352, Validation Accuracy: 0.9119, Loss: 0.1406\n",
      "Epoch   6 Batch  400/1077 - Train Accuracy: 0.9148, Validation Accuracy: 0.8970, Loss: 0.1731\n",
      "Epoch   6 Batch  450/1077 - Train Accuracy: 0.9293, Validation Accuracy: 0.8910, Loss: 0.1301\n",
      "Epoch   6 Batch  500/1077 - Train Accuracy: 0.9332, Validation Accuracy: 0.9070, Loss: 0.1218\n",
      "Epoch   6 Batch  550/1077 - Train Accuracy: 0.9129, Validation Accuracy: 0.9134, Loss: 0.1298\n",
      "Epoch   6 Batch  600/1077 - Train Accuracy: 0.9408, Validation Accuracy: 0.9126, Loss: 0.1304\n",
      "Epoch   6 Batch  650/1077 - Train Accuracy: 0.9473, Validation Accuracy: 0.9052, Loss: 0.1338\n",
      "Epoch   6 Batch  700/1077 - Train Accuracy: 0.9332, Validation Accuracy: 0.9155, Loss: 0.1187\n",
      "Epoch   6 Batch  750/1077 - Train Accuracy: 0.9363, Validation Accuracy: 0.9201, Loss: 0.1270\n",
      "Epoch   6 Batch  800/1077 - Train Accuracy: 0.9180, Validation Accuracy: 0.9016, Loss: 0.1238\n",
      "Epoch   6 Batch  850/1077 - Train Accuracy: 0.8966, Validation Accuracy: 0.9141, Loss: 0.1584\n",
      "Epoch   6 Batch  900/1077 - Train Accuracy: 0.9289, Validation Accuracy: 0.9137, Loss: 0.1338\n",
      "Epoch   6 Batch  950/1077 - Train Accuracy: 0.9267, Validation Accuracy: 0.9141, Loss: 0.1253\n",
      "Epoch   6 Batch 1000/1077 - Train Accuracy: 0.9193, Validation Accuracy: 0.9300, Loss: 0.1141\n",
      "Epoch   6 Batch 1050/1077 - Train Accuracy: 0.9449, Validation Accuracy: 0.9080, Loss: 0.1186\n",
      "Epoch   7 Batch   50/1077 - Train Accuracy: 0.9355, Validation Accuracy: 0.9215, Loss: 0.1074\n",
      "Epoch   7 Batch  100/1077 - Train Accuracy: 0.9320, Validation Accuracy: 0.9162, Loss: 0.1128\n",
      "Epoch   7 Batch  150/1077 - Train Accuracy: 0.9353, Validation Accuracy: 0.9169, Loss: 0.1304\n",
      "Epoch   7 Batch  200/1077 - Train Accuracy: 0.9113, Validation Accuracy: 0.9126, Loss: 0.1136\n",
      "Epoch   7 Batch  250/1077 - Train Accuracy: 0.9368, Validation Accuracy: 0.9300, Loss: 0.1001\n",
      "Epoch   7 Batch  300/1077 - Train Accuracy: 0.9531, Validation Accuracy: 0.9180, Loss: 0.1010\n",
      "Epoch   7 Batch  350/1077 - Train Accuracy: 0.9219, Validation Accuracy: 0.9357, Loss: 0.1082\n",
      "Epoch   7 Batch  400/1077 - Train Accuracy: 0.9352, Validation Accuracy: 0.9283, Loss: 0.1372\n",
      "Epoch   7 Batch  450/1077 - Train Accuracy: 0.9219, Validation Accuracy: 0.9254, Loss: 0.1100\n",
      "Epoch   7 Batch  500/1077 - Train Accuracy: 0.9387, Validation Accuracy: 0.9361, Loss: 0.0993\n",
      "Epoch   7 Batch  550/1077 - Train Accuracy: 0.9203, Validation Accuracy: 0.9254, Loss: 0.1008\n",
      "Epoch   7 Batch  600/1077 - Train Accuracy: 0.9561, Validation Accuracy: 0.9304, Loss: 0.1098\n",
      "Epoch   7 Batch  650/1077 - Train Accuracy: 0.9359, Validation Accuracy: 0.9350, Loss: 0.1116\n",
      "Epoch   7 Batch  700/1077 - Train Accuracy: 0.9547, Validation Accuracy: 0.9258, Loss: 0.0940\n",
      "Epoch   7 Batch  750/1077 - Train Accuracy: 0.9250, Validation Accuracy: 0.9347, Loss: 0.0993\n",
      "Epoch   7 Batch  800/1077 - Train Accuracy: 0.9477, Validation Accuracy: 0.9290, Loss: 0.0944\n",
      "Epoch   7 Batch  850/1077 - Train Accuracy: 0.9018, Validation Accuracy: 0.9343, Loss: 0.1251\n",
      "Epoch   7 Batch  900/1077 - Train Accuracy: 0.9633, Validation Accuracy: 0.9300, Loss: 0.1088\n",
      "Epoch   7 Batch  950/1077 - Train Accuracy: 0.9401, Validation Accuracy: 0.9268, Loss: 0.1033\n",
      "Epoch   7 Batch 1000/1077 - Train Accuracy: 0.9211, Validation Accuracy: 0.9300, Loss: 0.1013\n",
      "Epoch   7 Batch 1050/1077 - Train Accuracy: 0.9465, Validation Accuracy: 0.9389, Loss: 0.0844\n",
      "Epoch   8 Batch   50/1077 - Train Accuracy: 0.9453, Validation Accuracy: 0.9354, Loss: 0.0955\n",
      "Epoch   8 Batch  100/1077 - Train Accuracy: 0.9418, Validation Accuracy: 0.9304, Loss: 0.0927\n",
      "Epoch   8 Batch  150/1077 - Train Accuracy: 0.9475, Validation Accuracy: 0.9201, Loss: 0.1014\n",
      "Epoch   8 Batch  200/1077 - Train Accuracy: 0.9375, Validation Accuracy: 0.9339, Loss: 0.1000\n",
      "Epoch   8 Batch  250/1077 - Train Accuracy: 0.9478, Validation Accuracy: 0.9389, Loss: 0.0866\n",
      "Epoch   8 Batch  300/1077 - Train Accuracy: 0.9683, Validation Accuracy: 0.9194, Loss: 0.0996\n",
      "Epoch   8 Batch  350/1077 - Train Accuracy: 0.9371, Validation Accuracy: 0.9283, Loss: 0.0899\n",
      "Epoch   8 Batch  400/1077 - Train Accuracy: 0.9414, Validation Accuracy: 0.9492, Loss: 0.1084\n",
      "Epoch   8 Batch  450/1077 - Train Accuracy: 0.9453, Validation Accuracy: 0.9457, Loss: 0.0883\n",
      "Epoch   8 Batch  500/1077 - Train Accuracy: 0.9441, Validation Accuracy: 0.9421, Loss: 0.0819\n",
      "Epoch   8 Batch  550/1077 - Train Accuracy: 0.9266, Validation Accuracy: 0.9457, Loss: 0.0839\n",
      "Epoch   8 Batch  600/1077 - Train Accuracy: 0.9565, Validation Accuracy: 0.9375, Loss: 0.1011\n",
      "Epoch   8 Batch  650/1077 - Train Accuracy: 0.9516, Validation Accuracy: 0.9435, Loss: 0.0918\n",
      "Epoch   8 Batch  700/1077 - Train Accuracy: 0.9652, Validation Accuracy: 0.9396, Loss: 0.0712\n",
      "Epoch   8 Batch  750/1077 - Train Accuracy: 0.9359, Validation Accuracy: 0.9393, Loss: 0.0861\n",
      "Epoch   8 Batch  800/1077 - Train Accuracy: 0.9566, Validation Accuracy: 0.9506, Loss: 0.0883\n",
      "Epoch   8 Batch  850/1077 - Train Accuracy: 0.9159, Validation Accuracy: 0.9371, Loss: 0.1119\n",
      "Epoch   8 Batch  900/1077 - Train Accuracy: 0.9355, Validation Accuracy: 0.9322, Loss: 0.0935\n",
      "Epoch   8 Batch  950/1077 - Train Accuracy: 0.9397, Validation Accuracy: 0.9350, Loss: 0.0794\n",
      "Epoch   8 Batch 1000/1077 - Train Accuracy: 0.9293, Validation Accuracy: 0.9471, Loss: 0.0759\n",
      "Epoch   8 Batch 1050/1077 - Train Accuracy: 0.9637, Validation Accuracy: 0.9524, Loss: 0.0741\n",
      "Epoch   9 Batch   50/1077 - Train Accuracy: 0.9414, Validation Accuracy: 0.9400, Loss: 0.0786\n",
      "Epoch   9 Batch  100/1077 - Train Accuracy: 0.9434, Validation Accuracy: 0.9364, Loss: 0.0757\n",
      "Epoch   9 Batch  150/1077 - Train Accuracy: 0.9520, Validation Accuracy: 0.9222, Loss: 0.0836\n",
      "Epoch   9 Batch  200/1077 - Train Accuracy: 0.9352, Validation Accuracy: 0.9240, Loss: 0.0869\n",
      "Epoch   9 Batch  250/1077 - Train Accuracy: 0.9467, Validation Accuracy: 0.9450, Loss: 0.0756\n",
      "Epoch   9 Batch  300/1077 - Train Accuracy: 0.9609, Validation Accuracy: 0.9407, Loss: 0.0720\n",
      "Epoch   9 Batch  350/1077 - Train Accuracy: 0.9379, Validation Accuracy: 0.9325, Loss: 0.0805\n",
      "Epoch   9 Batch  400/1077 - Train Accuracy: 0.9418, Validation Accuracy: 0.9368, Loss: 0.0966\n",
      "Epoch   9 Batch  450/1077 - Train Accuracy: 0.9277, Validation Accuracy: 0.9411, Loss: 0.0687\n",
      "Epoch   9 Batch  500/1077 - Train Accuracy: 0.9426, Validation Accuracy: 0.9357, Loss: 0.0704\n",
      "Epoch   9 Batch  550/1077 - Train Accuracy: 0.9258, Validation Accuracy: 0.9389, Loss: 0.0721\n",
      "Epoch   9 Batch  600/1077 - Train Accuracy: 0.9613, Validation Accuracy: 0.9460, Loss: 0.0848\n",
      "Epoch   9 Batch  650/1077 - Train Accuracy: 0.9402, Validation Accuracy: 0.9446, Loss: 0.0763\n",
      "Epoch   9 Batch  700/1077 - Train Accuracy: 0.9508, Validation Accuracy: 0.9432, Loss: 0.0697\n",
      "Epoch   9 Batch  750/1077 - Train Accuracy: 0.9336, Validation Accuracy: 0.9276, Loss: 0.0788\n",
      "Epoch   9 Batch  800/1077 - Train Accuracy: 0.9598, Validation Accuracy: 0.9414, Loss: 0.0740\n",
      "Epoch   9 Batch  850/1077 - Train Accuracy: 0.9156, Validation Accuracy: 0.9499, Loss: 0.0976\n",
      "Epoch   9 Batch  900/1077 - Train Accuracy: 0.9512, Validation Accuracy: 0.9386, Loss: 0.0911\n",
      "Epoch   9 Batch  950/1077 - Train Accuracy: 0.9457, Validation Accuracy: 0.9521, Loss: 0.0763\n",
      "Epoch   9 Batch 1000/1077 - Train Accuracy: 0.9308, Validation Accuracy: 0.9435, Loss: 0.0772\n",
      "Epoch   9 Batch 1050/1077 - Train Accuracy: 0.9805, Validation Accuracy: 0.9446, Loss: 0.0677\n",
      "Epoch  10 Batch   50/1077 - Train Accuracy: 0.9531, Validation Accuracy: 0.9300, Loss: 0.0798\n",
      "Epoch  10 Batch  100/1077 - Train Accuracy: 0.9566, Validation Accuracy: 0.9347, Loss: 0.0729\n",
      "Epoch  10 Batch  150/1077 - Train Accuracy: 0.9472, Validation Accuracy: 0.9389, Loss: 0.0760\n",
      "Epoch  10 Batch  200/1077 - Train Accuracy: 0.9484, Validation Accuracy: 0.9322, Loss: 0.0714\n",
      "Epoch  10 Batch  250/1077 - Train Accuracy: 0.9631, Validation Accuracy: 0.9361, Loss: 0.0644\n",
      "Epoch  10 Batch  300/1077 - Train Accuracy: 0.9630, Validation Accuracy: 0.9396, Loss: 0.0656\n",
      "Epoch  10 Batch  350/1077 - Train Accuracy: 0.9402, Validation Accuracy: 0.9531, Loss: 0.0730\n",
      "Epoch  10 Batch  400/1077 - Train Accuracy: 0.9367, Validation Accuracy: 0.9457, Loss: 0.0863\n",
      "Epoch  10 Batch  450/1077 - Train Accuracy: 0.9504, Validation Accuracy: 0.9513, Loss: 0.0681\n",
      "Epoch  10 Batch  500/1077 - Train Accuracy: 0.9352, Validation Accuracy: 0.9513, Loss: 0.0607\n",
      "Epoch  10 Batch  550/1077 - Train Accuracy: 0.9508, Validation Accuracy: 0.9428, Loss: 0.0679\n",
      "Epoch  10 Batch  600/1077 - Train Accuracy: 0.9609, Validation Accuracy: 0.9375, Loss: 0.0648\n",
      "Epoch  10 Batch  650/1077 - Train Accuracy: 0.9633, Validation Accuracy: 0.9496, Loss: 0.0819\n",
      "Epoch  10 Batch  700/1077 - Train Accuracy: 0.9742, Validation Accuracy: 0.9574, Loss: 0.0564\n",
      "Epoch  10 Batch  750/1077 - Train Accuracy: 0.9414, Validation Accuracy: 0.9478, Loss: 0.0643\n",
      "Epoch  10 Batch  800/1077 - Train Accuracy: 0.9504, Validation Accuracy: 0.9482, Loss: 0.0649\n",
      "Epoch  10 Batch  850/1077 - Train Accuracy: 0.9338, Validation Accuracy: 0.9510, Loss: 0.0922\n",
      "Epoch  10 Batch  900/1077 - Train Accuracy: 0.9539, Validation Accuracy: 0.9592, Loss: 0.0696\n",
      "Epoch  10 Batch  950/1077 - Train Accuracy: 0.9461, Validation Accuracy: 0.9425, Loss: 0.0683\n",
      "Epoch  10 Batch 1000/1077 - Train Accuracy: 0.9420, Validation Accuracy: 0.9602, Loss: 0.0683\n",
      "Epoch  10 Batch 1050/1077 - Train Accuracy: 0.9758, Validation Accuracy: 0.9482, Loss: 0.0619\n",
      "Epoch  11 Batch   50/1077 - Train Accuracy: 0.9605, Validation Accuracy: 0.9521, Loss: 0.0617\n",
      "Epoch  11 Batch  100/1077 - Train Accuracy: 0.9613, Validation Accuracy: 0.9464, Loss: 0.0643\n",
      "Epoch  11 Batch  150/1077 - Train Accuracy: 0.9594, Validation Accuracy: 0.9389, Loss: 0.0675\n",
      "Epoch  11 Batch  200/1077 - Train Accuracy: 0.9688, Validation Accuracy: 0.9400, Loss: 0.0643\n",
      "Epoch  11 Batch  250/1077 - Train Accuracy: 0.9585, Validation Accuracy: 0.9375, Loss: 0.0598\n",
      "Epoch  11 Batch  300/1077 - Train Accuracy: 0.9667, Validation Accuracy: 0.9460, Loss: 0.0640\n",
      "Epoch  11 Batch  350/1077 - Train Accuracy: 0.9605, Validation Accuracy: 0.9474, Loss: 0.0620\n",
      "Epoch  11 Batch  400/1077 - Train Accuracy: 0.9461, Validation Accuracy: 0.9585, Loss: 0.0796\n",
      "Epoch  11 Batch  450/1077 - Train Accuracy: 0.9570, Validation Accuracy: 0.9439, Loss: 0.0704\n",
      "Epoch  11 Batch  500/1077 - Train Accuracy: 0.9449, Validation Accuracy: 0.9492, Loss: 0.0555\n",
      "Epoch  11 Batch  550/1077 - Train Accuracy: 0.9293, Validation Accuracy: 0.9471, Loss: 0.0630\n",
      "Epoch  11 Batch  600/1077 - Train Accuracy: 0.9580, Validation Accuracy: 0.9553, Loss: 0.0651\n",
      "Epoch  11 Batch  650/1077 - Train Accuracy: 0.9648, Validation Accuracy: 0.9513, Loss: 0.0662\n",
      "Epoch  11 Batch  700/1077 - Train Accuracy: 0.9605, Validation Accuracy: 0.9531, Loss: 0.0535\n",
      "Epoch  11 Batch  750/1077 - Train Accuracy: 0.9527, Validation Accuracy: 0.9446, Loss: 0.0655\n",
      "Epoch  11 Batch  800/1077 - Train Accuracy: 0.9742, Validation Accuracy: 0.9538, Loss: 0.0594\n",
      "Epoch  11 Batch  850/1077 - Train Accuracy: 0.9379, Validation Accuracy: 0.9567, Loss: 0.0797\n",
      "Epoch  11 Batch  900/1077 - Train Accuracy: 0.9547, Validation Accuracy: 0.9577, Loss: 0.0702\n",
      "Epoch  11 Batch  950/1077 - Train Accuracy: 0.9572, Validation Accuracy: 0.9503, Loss: 0.0561\n",
      "Epoch  11 Batch 1000/1077 - Train Accuracy: 0.9427, Validation Accuracy: 0.9442, Loss: 0.0676\n",
      "Epoch  11 Batch 1050/1077 - Train Accuracy: 0.9633, Validation Accuracy: 0.9513, Loss: 0.0583\n",
      "Epoch  12 Batch   50/1077 - Train Accuracy: 0.9496, Validation Accuracy: 0.9386, Loss: 0.0636\n",
      "Epoch  12 Batch  100/1077 - Train Accuracy: 0.9574, Validation Accuracy: 0.9585, Loss: 0.0598\n",
      "Epoch  12 Batch  150/1077 - Train Accuracy: 0.9736, Validation Accuracy: 0.9553, Loss: 0.0630\n",
      "Epoch  12 Batch  200/1077 - Train Accuracy: 0.9625, Validation Accuracy: 0.9535, Loss: 0.0580\n",
      "Epoch  12 Batch  250/1077 - Train Accuracy: 0.9549, Validation Accuracy: 0.9624, Loss: 0.0512\n",
      "Epoch  12 Batch  300/1077 - Train Accuracy: 0.9704, Validation Accuracy: 0.9567, Loss: 0.0626\n",
      "Epoch  12 Batch  350/1077 - Train Accuracy: 0.9441, Validation Accuracy: 0.9389, Loss: 0.0548\n",
      "Epoch  12 Batch  400/1077 - Train Accuracy: 0.9586, Validation Accuracy: 0.9567, Loss: 0.0800\n",
      "Epoch  12 Batch  450/1077 - Train Accuracy: 0.9648, Validation Accuracy: 0.9577, Loss: 0.0504\n",
      "Epoch  12 Batch  500/1077 - Train Accuracy: 0.9555, Validation Accuracy: 0.9588, Loss: 0.0532\n",
      "Epoch  12 Batch  550/1077 - Train Accuracy: 0.9535, Validation Accuracy: 0.9492, Loss: 0.0585\n",
      "Epoch  12 Batch  600/1077 - Train Accuracy: 0.9688, Validation Accuracy: 0.9606, Loss: 0.0486\n",
      "Epoch  12 Batch  650/1077 - Train Accuracy: 0.9730, Validation Accuracy: 0.9499, Loss: 0.0635\n",
      "Epoch  12 Batch  700/1077 - Train Accuracy: 0.9684, Validation Accuracy: 0.9414, Loss: 0.0542\n",
      "Epoch  12 Batch  750/1077 - Train Accuracy: 0.9402, Validation Accuracy: 0.9588, Loss: 0.0552\n",
      "Epoch  12 Batch  800/1077 - Train Accuracy: 0.9723, Validation Accuracy: 0.9510, Loss: 0.0470\n",
      "Epoch  12 Batch  850/1077 - Train Accuracy: 0.9509, Validation Accuracy: 0.9450, Loss: 0.0790\n",
      "Epoch  12 Batch  900/1077 - Train Accuracy: 0.9656, Validation Accuracy: 0.9457, Loss: 0.0749\n",
      "Epoch  12 Batch  950/1077 - Train Accuracy: 0.9453, Validation Accuracy: 0.9602, Loss: 0.0483\n",
      "Epoch  12 Batch 1000/1077 - Train Accuracy: 0.9516, Validation Accuracy: 0.9545, Loss: 0.0603\n",
      "Epoch  12 Batch 1050/1077 - Train Accuracy: 0.9832, Validation Accuracy: 0.9567, Loss: 0.0538\n",
      "Epoch  13 Batch   50/1077 - Train Accuracy: 0.9609, Validation Accuracy: 0.9538, Loss: 0.0533\n",
      "Epoch  13 Batch  100/1077 - Train Accuracy: 0.9500, Validation Accuracy: 0.9616, Loss: 0.0561\n",
      "Epoch  13 Batch  150/1077 - Train Accuracy: 0.9680, Validation Accuracy: 0.9638, Loss: 0.0613\n",
      "Epoch  13 Batch  200/1077 - Train Accuracy: 0.9605, Validation Accuracy: 0.9489, Loss: 0.0598\n",
      "Epoch  13 Batch  250/1077 - Train Accuracy: 0.9627, Validation Accuracy: 0.9506, Loss: 0.0560\n",
      "Epoch  13 Batch  300/1077 - Train Accuracy: 0.9762, Validation Accuracy: 0.9435, Loss: 0.0539\n",
      "Epoch  13 Batch  350/1077 - Train Accuracy: 0.9594, Validation Accuracy: 0.9609, Loss: 0.0500\n",
      "Epoch  13 Batch  400/1077 - Train Accuracy: 0.9555, Validation Accuracy: 0.9545, Loss: 0.0754\n",
      "Epoch  13 Batch  450/1077 - Train Accuracy: 0.9570, Validation Accuracy: 0.9570, Loss: 0.0537\n",
      "Epoch  13 Batch  500/1077 - Train Accuracy: 0.9684, Validation Accuracy: 0.9442, Loss: 0.0460\n",
      "Epoch  13 Batch  550/1077 - Train Accuracy: 0.9570, Validation Accuracy: 0.9538, Loss: 0.0461\n",
      "Epoch  13 Batch  600/1077 - Train Accuracy: 0.9669, Validation Accuracy: 0.9645, Loss: 0.0669\n",
      "Epoch  13 Batch  650/1077 - Train Accuracy: 0.9527, Validation Accuracy: 0.9595, Loss: 0.0498\n",
      "Epoch  13 Batch  700/1077 - Train Accuracy: 0.9637, Validation Accuracy: 0.9609, Loss: 0.0484\n",
      "Epoch  13 Batch  750/1077 - Train Accuracy: 0.9387, Validation Accuracy: 0.9680, Loss: 0.0595\n",
      "Epoch  13 Batch  800/1077 - Train Accuracy: 0.9707, Validation Accuracy: 0.9705, Loss: 0.0537\n",
      "Epoch  13 Batch  850/1077 - Train Accuracy: 0.9390, Validation Accuracy: 0.9531, Loss: 0.0738\n",
      "Epoch  13 Batch  900/1077 - Train Accuracy: 0.9652, Validation Accuracy: 0.9645, Loss: 0.0647\n",
      "Epoch  13 Batch  950/1077 - Train Accuracy: 0.9606, Validation Accuracy: 0.9599, Loss: 0.0523\n",
      "Epoch  13 Batch 1000/1077 - Train Accuracy: 0.9498, Validation Accuracy: 0.9577, Loss: 0.0534\n",
      "Epoch  13 Batch 1050/1077 - Train Accuracy: 0.9805, Validation Accuracy: 0.9560, Loss: 0.0464\n",
      "Epoch  14 Batch   50/1077 - Train Accuracy: 0.9707, Validation Accuracy: 0.9684, Loss: 0.0481\n",
      "Epoch  14 Batch  100/1077 - Train Accuracy: 0.9613, Validation Accuracy: 0.9567, Loss: 0.0468\n",
      "Epoch  14 Batch  150/1077 - Train Accuracy: 0.9728, Validation Accuracy: 0.9538, Loss: 0.0548\n",
      "Epoch  14 Batch  200/1077 - Train Accuracy: 0.9742, Validation Accuracy: 0.9641, Loss: 0.0552\n",
      "Epoch  14 Batch  250/1077 - Train Accuracy: 0.9510, Validation Accuracy: 0.9574, Loss: 0.0548\n",
      "Epoch  14 Batch  300/1077 - Train Accuracy: 0.9696, Validation Accuracy: 0.9538, Loss: 0.0445\n",
      "Epoch  14 Batch  350/1077 - Train Accuracy: 0.9590, Validation Accuracy: 0.9570, Loss: 0.0463\n",
      "Epoch  14 Batch  400/1077 - Train Accuracy: 0.9535, Validation Accuracy: 0.9730, Loss: 0.0615\n",
      "Epoch  14 Batch  450/1077 - Train Accuracy: 0.9617, Validation Accuracy: 0.9585, Loss: 0.0570\n",
      "Epoch  14 Batch  500/1077 - Train Accuracy: 0.9551, Validation Accuracy: 0.9592, Loss: 0.0399\n",
      "Epoch  14 Batch  550/1077 - Train Accuracy: 0.9492, Validation Accuracy: 0.9549, Loss: 0.0479\n",
      "Epoch  14 Batch  600/1077 - Train Accuracy: 0.9669, Validation Accuracy: 0.9524, Loss: 0.0522\n",
      "Epoch  14 Batch  650/1077 - Train Accuracy: 0.9656, Validation Accuracy: 0.9585, Loss: 0.0424\n",
      "Epoch  14 Batch  700/1077 - Train Accuracy: 0.9711, Validation Accuracy: 0.9663, Loss: 0.0446\n",
      "Epoch  14 Batch  750/1077 - Train Accuracy: 0.9570, Validation Accuracy: 0.9620, Loss: 0.0477\n",
      "Epoch  14 Batch  800/1077 - Train Accuracy: 0.9766, Validation Accuracy: 0.9634, Loss: 0.0461\n",
      "Epoch  14 Batch  850/1077 - Train Accuracy: 0.9315, Validation Accuracy: 0.9521, Loss: 0.0721\n",
      "Epoch  14 Batch  900/1077 - Train Accuracy: 0.9715, Validation Accuracy: 0.9648, Loss: 0.0547\n",
      "Epoch  14 Batch  950/1077 - Train Accuracy: 0.9621, Validation Accuracy: 0.9698, Loss: 0.0437\n",
      "Epoch  14 Batch 1000/1077 - Train Accuracy: 0.9501, Validation Accuracy: 0.9553, Loss: 0.0537\n",
      "Epoch  14 Batch 1050/1077 - Train Accuracy: 0.9840, Validation Accuracy: 0.9574, Loss: 0.0416\n",
      "Model Trained and Saved\n"
     ]
    }
   ],
   "source": [
    "\"\"\"\n",
    "DON'T MODIFY ANYTHING IN THIS CELL\n",
    "\"\"\"\n",
    "def get_accuracy(target, logits):\n",
    "    \"\"\"\n",
    "    Calculate accuracy\n",
    "    \"\"\"\n",
    "    max_seq = max(target.shape[1], logits.shape[1])\n",
    "    if max_seq - target.shape[1]:\n",
    "        target = np.pad(\n",
    "            target,\n",
    "            [(0,0),(0,max_seq - target.shape[1])],\n",
    "            'constant')\n",
    "    if max_seq - logits.shape[1]:\n",
    "        logits = np.pad(\n",
    "            logits,\n",
    "            [(0,0),(0,max_seq - logits.shape[1])],\n",
    "            'constant')\n",
    "\n",
    "    return np.mean(np.equal(target, logits))\n",
    "\n",
    "# Split data to training and validation sets\n",
    "train_source = source_int_text[batch_size:]\n",
    "train_target = target_int_text[batch_size:]\n",
    "valid_source = source_int_text[:batch_size]\n",
    "valid_target = target_int_text[:batch_size]\n",
    "(valid_sources_batch, valid_targets_batch, valid_sources_lengths, valid_targets_lengths ) = next(get_batches(valid_source,\n",
    "                                                                                                             valid_target,\n",
    "                                                                                                             batch_size,\n",
    "                                                                                                             source_vocab_to_int['<PAD>'],\n",
    "                                                                                                             target_vocab_to_int['<PAD>']))                                                                                                  \n",
    "with tf.Session(graph=train_graph) as sess:\n",
    "    sess.run(tf.global_variables_initializer())\n",
    "\n",
    "    for epoch_i in range(epochs):\n",
    "        for batch_i, (source_batch, target_batch, sources_lengths, targets_lengths) in enumerate(\n",
    "                get_batches(train_source, train_target, batch_size,\n",
    "                            source_vocab_to_int['<PAD>'],\n",
    "                            target_vocab_to_int['<PAD>'])):\n",
    "\n",
    "            _, loss = sess.run(\n",
    "                [train_op, cost],\n",
    "                {input_data: source_batch,\n",
    "                 targets: target_batch,\n",
    "                 lr: learning_rate,\n",
    "                 target_sequence_length: targets_lengths,\n",
    "                 source_sequence_length: sources_lengths,\n",
    "                 keep_prob: keep_probability})\n",
    "\n",
    "\n",
    "            if batch_i % display_step == 0 and batch_i > 0:\n",
    "\n",
    "\n",
    "                batch_train_logits = sess.run(\n",
    "                    inference_logits,\n",
    "                    {input_data: source_batch,\n",
    "                     source_sequence_length: sources_lengths,\n",
    "                     target_sequence_length: targets_lengths,\n",
    "                     keep_prob: 1.0})\n",
    "\n",
    "\n",
    "                batch_valid_logits = sess.run(\n",
    "                    inference_logits,\n",
    "                    {input_data: valid_sources_batch,\n",
    "                     source_sequence_length: valid_sources_lengths,\n",
    "                     target_sequence_length: valid_targets_lengths,\n",
    "                     keep_prob: 1.0})\n",
    "\n",
    "                train_acc = get_accuracy(target_batch, batch_train_logits)\n",
    "\n",
    "                valid_acc = get_accuracy(valid_targets_batch, batch_valid_logits)\n",
    "\n",
    "                print('Epoch {:>3} Batch {:>4}/{} - Train Accuracy: {:>6.4f}, Validation Accuracy: {:>6.4f}, Loss: {:>6.4f}'\n",
    "                      .format(epoch_i, batch_i, len(source_int_text) // batch_size, train_acc, valid_acc, loss))\n",
    "\n",
    "    # Save Model\n",
    "    saver = tf.train.Saver()\n",
    "    saver.save(sess, save_path)\n",
    "    print('Model Trained and Saved')"
   ]
  },
  {
   "cell_type": "markdown",
   "metadata": {
    "deletable": true,
    "editable": true
   },
   "source": [
    "### Save Parameters\n",
    "Save the `batch_size` and `save_path` parameters for inference."
   ]
  },
  {
   "cell_type": "code",
   "execution_count": 38,
   "metadata": {
    "collapsed": true,
    "deletable": true,
    "editable": true
   },
   "outputs": [],
   "source": [
    "\"\"\"\n",
    "DON'T MODIFY ANYTHING IN THIS CELL\n",
    "\"\"\"\n",
    "# Save parameters for checkpoint\n",
    "helper.save_params(save_path)"
   ]
  },
  {
   "cell_type": "markdown",
   "metadata": {
    "deletable": true,
    "editable": true
   },
   "source": [
    "# Checkpoint"
   ]
  },
  {
   "cell_type": "code",
   "execution_count": 39,
   "metadata": {
    "collapsed": true,
    "deletable": true,
    "editable": true
   },
   "outputs": [],
   "source": [
    "\"\"\"\n",
    "DON'T MODIFY ANYTHING IN THIS CELL\n",
    "\"\"\"\n",
    "import tensorflow as tf\n",
    "import numpy as np\n",
    "import helper\n",
    "import problem_unittests as tests\n",
    "\n",
    "_, (source_vocab_to_int, target_vocab_to_int), (source_int_to_vocab, target_int_to_vocab) = helper.load_preprocess()\n",
    "load_path = helper.load_params()"
   ]
  },
  {
   "cell_type": "markdown",
   "metadata": {
    "deletable": true,
    "editable": true
   },
   "source": [
    "## Sentence to Sequence\n",
    "To feed a sentence into the model for translation, you first need to preprocess it.  Implement the function `sentence_to_seq()` to preprocess new sentences.\n",
    "\n",
    "- Convert the sentence to lowercase\n",
    "- Convert words into ids using `vocab_to_int`\n",
    " - Convert words not in the vocabulary, to the `<UNK>` word id."
   ]
  },
  {
   "cell_type": "code",
   "execution_count": 44,
   "metadata": {
    "collapsed": false,
    "deletable": true,
    "editable": true
   },
   "outputs": [
    {
     "name": "stdout",
     "output_type": "stream",
     "text": [
      "Tests Passed\n"
     ]
    }
   ],
   "source": [
    "def sentence_to_seq(sentence, vocab_to_int):\n",
    "    \"\"\"\n",
    "    Convert a sentence to a sequence of ids\n",
    "    :param sentence: String\n",
    "    :param vocab_to_int: Dictionary to go from the words to an id\n",
    "    :return: List of word ids\n",
    "    \"\"\"\n",
    "    a = [vocab_to_int.get(x, vocab_to_int['<UNK>']) for x in sentence.lower().split()]\n",
    "    return a\n",
    "\n",
    "\n",
    "\"\"\"\n",
    "DON'T MODIFY ANYTHING IN THIS CELL THAT IS BELOW THIS LINE\n",
    "\"\"\"\n",
    "tests.test_sentence_to_seq(sentence_to_seq)"
   ]
  },
  {
   "cell_type": "markdown",
   "metadata": {
    "deletable": true,
    "editable": true
   },
   "source": [
    "## Translate\n",
    "This will translate `translate_sentence` from English to French."
   ]
  },
  {
   "cell_type": "code",
   "execution_count": 49,
   "metadata": {
    "collapsed": false,
    "deletable": true,
    "editable": true
   },
   "outputs": [
    {
     "name": "stdout",
     "output_type": "stream",
     "text": [
      "INFO:tensorflow:Restoring parameters from checkpoints/dev\n",
      "Input\n",
      "  Word Ids:      [2, 146, 123]\n",
      "  English Words: ['<UNK>', 'big', '.']\n",
      "\n",
      "Prediction\n",
      "  Word Ids:      [23, 162, 122, 342, 207, 47]\n",
      "  French Words: ont l' intention de football .\n"
     ]
    }
   ],
   "source": [
    "translate_sentence = 'dream big .'\n",
    "\n",
    "\n",
    "\"\"\"\n",
    "DON'T MODIFY ANYTHING IN THIS CELL\n",
    "\"\"\"\n",
    "translate_sentence = sentence_to_seq(translate_sentence, source_vocab_to_int)\n",
    "\n",
    "loaded_graph = tf.Graph()\n",
    "with tf.Session(graph=loaded_graph) as sess:\n",
    "    # Load saved model\n",
    "    loader = tf.train.import_meta_graph(load_path + '.meta')\n",
    "    loader.restore(sess, load_path)\n",
    "\n",
    "    input_data = loaded_graph.get_tensor_by_name('input:0')\n",
    "    logits = loaded_graph.get_tensor_by_name('predictions:0')\n",
    "    target_sequence_length = loaded_graph.get_tensor_by_name('target_sequence_length:0')\n",
    "    source_sequence_length = loaded_graph.get_tensor_by_name('source_sequence_length:0')\n",
    "    keep_prob = loaded_graph.get_tensor_by_name('keep_prob:0')\n",
    "\n",
    "    translate_logits = sess.run(logits, {input_data: [translate_sentence]*batch_size,\n",
    "                                         target_sequence_length: [len(translate_sentence)*2]*batch_size,\n",
    "                                         source_sequence_length: [len(translate_sentence)]*batch_size,\n",
    "                                         keep_prob: 1.0})[0]\n",
    "\n",
    "print('Input')\n",
    "print('  Word Ids:      {}'.format([i for i in translate_sentence]))\n",
    "print('  English Words: {}'.format([source_int_to_vocab[i] for i in translate_sentence]))\n",
    "\n",
    "print('\\nPrediction')\n",
    "print('  Word Ids:      {}'.format([i for i in translate_logits]))\n",
    "print('  French Words: {}'.format(\" \".join([target_int_to_vocab[i] for i in translate_logits])))\n"
   ]
  },
  {
   "cell_type": "markdown",
   "metadata": {
    "deletable": true,
    "editable": true
   },
   "source": [
    "## Imperfect Translation\n",
    "You might notice that some sentences translate better than others.  Since the dataset you're using only has a vocabulary of 227 English words of the thousands that you use, you're only going to see good results using these words.  For this project, you don't need a perfect translation. However, if you want to create a better translation model, you'll need better data.\n",
    "\n",
    "You can train on the [WMT10 French-English corpus](http://www.statmt.org/wmt10/training-giga-fren.tar).  This dataset has more vocabulary and richer in topics discussed.  However, this will take you days to train, so make sure you've a GPU and the neural network is performing well on dataset we provided.  Just make sure you play with the WMT10 corpus after you've submitted this project.\n",
    "## Submitting This Project\n",
    "When submitting this project, make sure to run all the cells before saving the notebook. Save the notebook file as \"dlnd_language_translation.ipynb\" and save it as a HTML file under \"File\" -> \"Download as\". Include the \"helper.py\" and \"problem_unittests.py\" files in your submission."
   ]
  },
  {
   "cell_type": "code",
   "execution_count": null,
   "metadata": {
    "collapsed": true
   },
   "outputs": [],
   "source": []
  }
 ],
 "metadata": {
  "anaconda-cloud": {},
  "kernelspec": {
   "display_name": "Python 3",
   "language": "python",
   "name": "python3"
  },
  "language_info": {
   "codemirror_mode": {
    "name": "ipython",
    "version": 3
   },
   "file_extension": ".py",
   "mimetype": "text/x-python",
   "name": "python",
   "nbconvert_exporter": "python",
   "pygments_lexer": "ipython3",
   "version": "3.5.2"
  },
  "widgets": {
   "state": {},
   "version": "1.1.2"
  }
 },
 "nbformat": 4,
 "nbformat_minor": 1
}
